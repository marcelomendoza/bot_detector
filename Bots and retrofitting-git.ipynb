{
 "cells": [
  {
   "cell_type": "markdown",
   "metadata": {},
   "source": [
    "# Fitting graph embeddings to the network of interactions"
   ]
  },
  {
   "cell_type": "code",
   "execution_count": 1,
   "metadata": {
    "collapsed": true
   },
   "outputs": [],
   "source": [
    "from gensim.models.keyedvectors import KeyedVectors"
   ]
  },
  {
   "cell_type": "code",
   "execution_count": 2,
   "metadata": {
    "collapsed": true
   },
   "outputs": [],
   "source": [
    "vectors_file_vec = 'encodings/italy_embeddings.tsv'"
   ]
  },
  {
   "cell_type": "code",
   "execution_count": 3,
   "metadata": {
    "collapsed": true
   },
   "outputs": [],
   "source": [
    "cantidad = 198613\n",
    "vectors = KeyedVectors.load_word2vec_format(vectors_file_vec, limit=cantidad)"
   ]
  },
  {
   "cell_type": "code",
   "execution_count": 4,
   "metadata": {
    "collapsed": true
   },
   "outputs": [],
   "source": [
    "import os, sys\n",
    "import csv\n",
    "import numpy as np"
   ]
  },
  {
   "cell_type": "markdown",
   "metadata": {},
   "source": [
    "The file 'interactions.dat' is a row file of edges, and each edge is a pair <uids,uidd>"
   ]
  },
  {
   "cell_type": "code",
   "execution_count": 6,
   "metadata": {
    "collapsed": true
   },
   "outputs": [],
   "source": [
    "file_X = open(\"bot_detection/Italy/interactions.dat\",'r')\n",
    "reader_csv = csv.reader(file_X, delimiter=\" \")"
   ]
  },
  {
   "cell_type": "code",
   "execution_count": 7,
   "metadata": {
    "collapsed": true
   },
   "outputs": [],
   "source": [
    "neighbors = dict()\n",
    "for line in reader_csv:\n",
    "    node_from = str(line[0])\n",
    "    node_to = str(line[1])\n",
    "    if node_from not in neighbors:\n",
    "        neighbors[node_from] = list()\n",
    "        neighbors[node_from].append(node_to)\n",
    "    else:\n",
    "        neighbors[node_from].append(node_to)\n",
    "        \n",
    "file_X.close()"
   ]
  },
  {
   "cell_type": "code",
   "execution_count": 35,
   "metadata": {
    "collapsed": true
   },
   "outputs": [],
   "source": [
    "from copy import deepcopy\n",
    "\n",
    "def retrofit(X, neighbors, numIters):\n",
    "    X_ = deepcopy(X)\n",
    "    n = X.shape[0]\n",
    "    for it in range(numIters):\n",
    "        for i in range(n):\n",
    "            v = idx2v[i]\n",
    "            if v in neighbors:\n",
    "                nns = neighbors[v]\n",
    "                numNeighbors = len(nns)\n",
    "                if numNeighbors > 0:\n",
    "                    newVec = numNeighbors * X[i,]\n",
    "                    for u in nns:\n",
    "                        if u in v2idx:\n",
    "                            ni = v2idx[u]\n",
    "                            newVec += X_[int(ni),]\n",
    "                        else:\n",
    "                            newVec += X[i,]\n",
    "                        X_[i,] = newVec/(2*numNeighbors)\n",
    "                \n",
    "    return X_\n"
   ]
  },
  {
   "cell_type": "code",
   "execution_count": 36,
   "metadata": {
    "collapsed": true
   },
   "outputs": [],
   "source": [
    "X = np.empty((cantidad,100))"
   ]
  },
  {
   "cell_type": "code",
   "execution_count": 37,
   "metadata": {
    "collapsed": true
   },
   "outputs": [],
   "source": [
    "v2idx = dict()\n",
    "idx2v = dict()\n",
    "i = 0\n",
    "for v in vectors.vocab:\n",
    "    v2idx[v] = i\n",
    "    idx2v[i] = str(v)\n",
    "    X[i,] = vectors[v]\n",
    "    i += 1"
   ]
  },
  {
   "cell_type": "code",
   "execution_count": 38,
   "metadata": {
    "collapsed": true
   },
   "outputs": [],
   "source": [
    "X_ = retrofit(X, neighbors, 10)"
   ]
  },
  {
   "cell_type": "code",
   "execution_count": 46,
   "metadata": {
    "collapsed": true
   },
   "outputs": [],
   "source": [
    "n = X_.shape[0]"
   ]
  },
  {
   "cell_type": "code",
   "execution_count": 49,
   "metadata": {
    "collapsed": true
   },
   "outputs": [],
   "source": [
    "file = open('keys.dat', 'w')\n",
    "for i in range(n):\n",
    "    v = idx2v[i]\n",
    "    file.write(v+'\\n')\n",
    "\n",
    "file.close()"
   ]
  },
  {
   "cell_type": "code",
   "execution_count": 50,
   "metadata": {
    "collapsed": true
   },
   "outputs": [],
   "source": [
    "np.savetxt('interaction_vectors', X_)"
   ]
  },
  {
   "cell_type": "markdown",
   "metadata": {},
   "source": [
    "- paste keys.dat interaction_vectors > interactions_italy.tsv\n",
    "- vi interaction_italy.tsv: :%s/\\t/ /g (wq)"
   ]
  },
  {
   "cell_type": "code",
   "execution_count": null,
   "metadata": {},
   "outputs": [],
   "source": []
  }
 ],
 "metadata": {
  "kernelspec": {
   "display_name": "Python 3",
   "language": "python",
   "name": "python3"
  },
  "language_info": {
   "codemirror_mode": {
    "name": "ipython",
    "version": 3
   },
   "file_extension": ".py",
   "mimetype": "text/x-python",
   "name": "python",
   "nbconvert_exporter": "python",
   "pygments_lexer": "ipython3",
   "version": "3.6.9"
  }
 },
 "nbformat": 4,
 "nbformat_minor": 2
}
